{
  "nbformat": 4,
  "nbformat_minor": 0,
  "metadata": {
    "colab": {
      "provenance": []
    },
    "kernelspec": {
      "name": "python3",
      "display_name": "Python 3"
    },
    "language_info": {
      "name": "python"
    }
  },
  "cells": [
    {
      "cell_type": "code",
      "execution_count": 1,
      "metadata": {
        "id": "EA3i6se2f6hM"
      },
      "outputs": [],
      "source": [
        "import csv\n",
        "import datetime\n",
        "import pytz"
      ]
    },
    {
      "cell_type": "code",
      "source": [
        "# Creates Menu.txt file\n",
        "with open('Menu.txt', 'w') as f:\n",
        "    f.write('* Please Choose a Pizza Base: \\n1: Classic \\n2: Margherita \\n3: TurkPizza \\n4: PlainPizza \\n')\n",
        "    f.write('* and sauce of your choice: \\n11: Olives \\n12: Mushrooms \\n13: GoatCheese \\n14: Meat \\n15: Onions \\n16: Corn \\n')\n",
        "    # f.write('* Thank you!')"
      ],
      "metadata": {
        "id": "ECk3Tp2mgGD2"
      },
      "execution_count": 2,
      "outputs": []
    },
    {
      "cell_type": "code",
      "source": [
        "# Superclass Pizza\n",
        "class Pizza:\n",
        "    def __init__(self, description, cost):\n",
        "        self.description = description\n",
        "        self.cost = cost\n",
        "\n",
        "    def get_description(self):\n",
        "        return self.description\n",
        "\n",
        "    def get_cost(self):\n",
        "        return self.cost"
      ],
      "metadata": {
        "id": "w6cTKSV1gUoM"
      },
      "execution_count": 3,
      "outputs": []
    },
    {
      "cell_type": "code",
      "source": [
        "# Subclasses of Pizza\n",
        "class Classic(Pizza):\n",
        "    def __init__(self):\n",
        "        super().__init__(\"Classic Pizza\", 50.0)\n",
        "\n",
        "class Margherita(Pizza):\n",
        "    def __init__(self):\n",
        "        super().__init__(\"Margherita Pizza\", 56.0)\n",
        "\n",
        "class TurkPizza(Pizza):\n",
        "    def __init__(self):\n",
        "        super().__init__(\"Turk Pizza\", 70.0)\n",
        "\n",
        "class DominosPizza(Pizza):\n",
        "    def __init__(self):\n",
        "        super().__init__(\"Dominos Pizza\", 75.0)"
      ],
      "metadata": {
        "id": "0tlD6Adwg1us"
      },
      "execution_count": 4,
      "outputs": []
    },
    {
      "cell_type": "code",
      "source": [
        "# Superclass Decorator\n",
        "class Decorator(Pizza):\n",
        "    def __init__(self, component):\n",
        "        self.component = component\n",
        "\n",
        "    def get_cost(self):\n",
        "        return self.component.get_cost() + Pizza.get_cost(self)\n",
        "\n",
        "    def get_description(self):\n",
        "        return self.component.get_description() + ' ' + Pizza.get_description(self)"
      ],
      "metadata": {
        "id": "ZS_HoQ9BhO2l"
      },
      "execution_count": 5,
      "outputs": []
    },
    {
      "cell_type": "code",
      "source": [
        "# Sauce classes\n",
        "class Olives(Decorator):\n",
        "    def __init__(self, component):\n",
        "        super().__init__(component)\n",
        "        self.cost = 4.0\n",
        "        self.description = \"Olives\"\n",
        "\n",
        "class Mushrooms(Decorator):\n",
        "    def __init__(self, component):\n",
        "        super().__init__(component)\n",
        "        self.cost = 3.0\n",
        "        self.description = \"Mushrooms\"\n",
        "\n",
        "class GoatCheese(Decorator):\n",
        "    def __init__(self, component):\n",
        "        super().__init__(component)\n",
        "        self.cost = 5.0\n",
        "        self.description = \"Goat Cheese\"\n",
        "\n",
        "class Meat(Decorator):\n",
        "    def __init__(self, component):\n",
        "        super().__init__(component)\n",
        "        self.cost = 10.0\n",
        "        self.description = \"Meat\"\n",
        "\n",
        "class Onions(Decorator):\n",
        "    def __init__(self, component):\n",
        "        super().__init__(component)\n",
        "        self.cost = 2.0\n",
        "        self.description = \"Onions\"\n",
        "\n",
        "class Corn(Decorator):\n",
        "    def __init__(self, component):\n",
        "        super().__init__(component)\n",
        "        self.cost = 6.5\n",
        "        self.description = \"Corn\""
      ],
      "metadata": {
        "id": "CWS2rec3hhIy"
      },
      "execution_count": 7,
      "outputs": []
    },
    {
      "cell_type": "code",
      "source": [
        "# main function\n",
        "def main():\n",
        "    # Print menu\n",
        "    with open('Menu.txt', 'r') as f:\n",
        "        print(f.read())\n",
        "\n",
        "    # Ask user for pizza and sauce choices \n",
        "    pizza_choice=get_pizza_choice()\n",
        "    sauce_choice=get_sauce()\n",
        "    \n",
        "    pizza=create_pizza(pizza_choice,sauce_choice)\n",
        "\n",
        "    name = input(\"Please enter your name: \")\n",
        "    id_number = input(\"Please enter your ID number: \")\n",
        "    cc_number = input(\"Please enter your credit card number: \")\n",
        "    cc_password = input(\"Please enter your credit card password: \")\n",
        "\n",
        "    now = datetime.datetime.now(pytz.timezone(\"Europe/Istanbul\"))\n",
        "    time_str = now.strftime(\"%d-%m-%Y %H:%M:%S\")\n",
        "\n",
        "    with open(\"Orders_Database.csv\", \"a\") as f:\n",
        "        writer = csv.writer(f)\n",
        "        writer.writerow([name, id_number, cc_number, cc_password, pizza.get_description(), time_str, pizza.get_cost()])\n",
        "\n",
        "\n"
      ],
      "metadata": {
        "id": "NQnYgbFQhwvO"
      },
      "execution_count": 54,
      "outputs": []
    },
    {
      "cell_type": "code",
      "source": [
        "def get_pizza_choice():\n",
        "  pizza_choice = input(\"Please enter the number of your pizza choice: \")\n",
        "  try:\n",
        "    val = int(pizza_choice)\n",
        "  except ValueError:\n",
        "    print(\"That's not a number! Please select number of pizza respect to menu: \")\n",
        "    get_pizza_choice()\n",
        "  if val>4 or val<1:\n",
        "    print(\"Wrong choice!! Please select number of pizza 1 to 4 respect to menu :\")\n",
        "    get_pizza_choice()\n",
        "  return val"
      ],
      "metadata": {
        "id": "5YDn017ulP0Q"
      },
      "execution_count": 43,
      "outputs": []
    },
    {
      "cell_type": "code",
      "source": [
        "def get_sauce():\n",
        "  sauce = input(f\"Please enter the number of your sauce choice:  \")\n",
        "  try:\n",
        "    val = int(sauce)\n",
        "  except ValueError:\n",
        "    print(\"That's not a number! Please enter how many of sauces you want: \")\n",
        "    get_sauce()\n",
        "  if val>16 or val<11:\n",
        "    print(\"Please enter which sauce you want 11-16: \")\n",
        "    get_sauce()\n",
        "  return val\n"
      ],
      "metadata": {
        "id": "26tr_XEgpOyJ"
      },
      "execution_count": 61,
      "outputs": []
    },
    {
      "cell_type": "code",
      "source": [
        "def create_pizza(pizza_choice,sauce_choice):\n",
        "    if pizza_choice == '1':\n",
        "        pizzaType = Classic()\n",
        "    elif pizza_choice == '2':\n",
        "        pizzaType = Margherita()\n",
        "    elif pizza_choice == '3':\n",
        "        pizzaType = TurkPizza()\n",
        "    else:\n",
        "        pizzaType = DominosPizza()\n",
        "    \n",
        "    if sauce_choice == \"11\":\n",
        "        pizza = Olives(pizzaType)\n",
        "    elif sauce_choice == \"12\":\n",
        "        pizza = Mushrooms(pizzaType)\n",
        "    elif sauce_choice == \"13\":\n",
        "        pizza = GoatCheese(pizzaType)\n",
        "    elif sauce_choice == \"14\":\n",
        "        pizza = Meat(pizzaType)\n",
        "    elif sauce_choice == \"15\":\n",
        "        pizza = Onions(pizzaType)\n",
        "    else:\n",
        "        pizza = Corn(pizzaType)\n",
        "    \n",
        "    return pizza\n",
        "\n",
        "\n",
        "    \n",
        "\n"
      ],
      "metadata": {
        "id": "8b5gW5kLqble"
      },
      "execution_count": 68,
      "outputs": []
    },
    {
      "cell_type": "code",
      "source": [
        "main()\n"
      ],
      "metadata": {
        "colab": {
          "base_uri": "https://localhost:8080/",
          "height": 606
        },
        "id": "zcdVVr6UjFF4",
        "outputId": "c73fed82-1e66-4e0f-dd52-8c7160f78dfe"
      },
      "execution_count": 70,
      "outputs": [
        {
          "name": "stdout",
          "output_type": "stream",
          "text": [
            "* Please Choose a Pizza Base: \n",
            "1: Classic \n",
            "2: Margherita \n",
            "3: TurkPizza \n",
            "4: PlainPizza \n",
            "* and sauce of your choice: \n",
            "11: Olives \n",
            "12: Mushrooms \n",
            "13: GoatCheese \n",
            "14: Meat \n",
            "15: Onions \n",
            "16: Corn \n",
            "\n",
            "Please enter the number of your pizza choice: 1\n",
            "Please enter the number of your sauce choice:  17\n",
            "Please enter which sauce you want 11-16: \n",
            "Please enter the number of your sauce choice:  11\n"
          ]
        },
        {
          "output_type": "error",
          "ename": "KeyboardInterrupt",
          "evalue": "ignored",
          "traceback": [
            "\u001b[0;31m---------------------------------------------------------------------------\u001b[0m",
            "\u001b[0;31mKeyboardInterrupt\u001b[0m                         Traceback (most recent call last)",
            "\u001b[0;32m<ipython-input-70-263240bbee7e>\u001b[0m in \u001b[0;36m<module>\u001b[0;34m\u001b[0m\n\u001b[0;32m----> 1\u001b[0;31m \u001b[0mmain\u001b[0m\u001b[0;34m(\u001b[0m\u001b[0;34m)\u001b[0m\u001b[0;34m\u001b[0m\u001b[0;34m\u001b[0m\u001b[0m\n\u001b[0m",
            "\u001b[0;32m<ipython-input-54-d03ad0f8a6a0>\u001b[0m in \u001b[0;36mmain\u001b[0;34m()\u001b[0m\n\u001b[1;32m     11\u001b[0m     \u001b[0mpizza\u001b[0m\u001b[0;34m=\u001b[0m\u001b[0mcreate_pizza\u001b[0m\u001b[0;34m(\u001b[0m\u001b[0mpizza_choice\u001b[0m\u001b[0;34m,\u001b[0m\u001b[0msauce_choice\u001b[0m\u001b[0;34m)\u001b[0m\u001b[0;34m\u001b[0m\u001b[0;34m\u001b[0m\u001b[0m\n\u001b[1;32m     12\u001b[0m \u001b[0;34m\u001b[0m\u001b[0m\n\u001b[0;32m---> 13\u001b[0;31m     \u001b[0mname\u001b[0m \u001b[0;34m=\u001b[0m \u001b[0minput\u001b[0m\u001b[0;34m(\u001b[0m\u001b[0;34m\"Please enter your name: \"\u001b[0m\u001b[0;34m)\u001b[0m\u001b[0;34m\u001b[0m\u001b[0;34m\u001b[0m\u001b[0m\n\u001b[0m\u001b[1;32m     14\u001b[0m     \u001b[0mid_number\u001b[0m \u001b[0;34m=\u001b[0m \u001b[0minput\u001b[0m\u001b[0;34m(\u001b[0m\u001b[0;34m\"Please enter your ID number: \"\u001b[0m\u001b[0;34m)\u001b[0m\u001b[0;34m\u001b[0m\u001b[0;34m\u001b[0m\u001b[0m\n\u001b[1;32m     15\u001b[0m     \u001b[0mcc_number\u001b[0m \u001b[0;34m=\u001b[0m \u001b[0minput\u001b[0m\u001b[0;34m(\u001b[0m\u001b[0;34m\"Please enter your credit card number: \"\u001b[0m\u001b[0;34m)\u001b[0m\u001b[0;34m\u001b[0m\u001b[0;34m\u001b[0m\u001b[0m\n",
            "\u001b[0;32m/usr/local/lib/python3.9/dist-packages/ipykernel/kernelbase.py\u001b[0m in \u001b[0;36mraw_input\u001b[0;34m(self, prompt)\u001b[0m\n\u001b[1;32m    858\u001b[0m                 \u001b[0;34m\"raw_input was called, but this frontend does not support input requests.\"\u001b[0m\u001b[0;34m\u001b[0m\u001b[0;34m\u001b[0m\u001b[0m\n\u001b[1;32m    859\u001b[0m             )\n\u001b[0;32m--> 860\u001b[0;31m         return self._input_request(str(prompt),\n\u001b[0m\u001b[1;32m    861\u001b[0m             \u001b[0mself\u001b[0m\u001b[0;34m.\u001b[0m\u001b[0m_parent_ident\u001b[0m\u001b[0;34m,\u001b[0m\u001b[0;34m\u001b[0m\u001b[0;34m\u001b[0m\u001b[0m\n\u001b[1;32m    862\u001b[0m             \u001b[0mself\u001b[0m\u001b[0;34m.\u001b[0m\u001b[0m_parent_header\u001b[0m\u001b[0;34m,\u001b[0m\u001b[0;34m\u001b[0m\u001b[0;34m\u001b[0m\u001b[0m\n",
            "\u001b[0;32m/usr/local/lib/python3.9/dist-packages/ipykernel/kernelbase.py\u001b[0m in \u001b[0;36m_input_request\u001b[0;34m(self, prompt, ident, parent, password)\u001b[0m\n\u001b[1;32m    902\u001b[0m             \u001b[0;32mexcept\u001b[0m \u001b[0mKeyboardInterrupt\u001b[0m\u001b[0;34m:\u001b[0m\u001b[0;34m\u001b[0m\u001b[0;34m\u001b[0m\u001b[0m\n\u001b[1;32m    903\u001b[0m                 \u001b[0;31m# re-raise KeyboardInterrupt, to truncate traceback\u001b[0m\u001b[0;34m\u001b[0m\u001b[0;34m\u001b[0m\u001b[0m\n\u001b[0;32m--> 904\u001b[0;31m                 \u001b[0;32mraise\u001b[0m \u001b[0mKeyboardInterrupt\u001b[0m\u001b[0;34m(\u001b[0m\u001b[0;34m\"Interrupted by user\"\u001b[0m\u001b[0;34m)\u001b[0m \u001b[0;32mfrom\u001b[0m \u001b[0;32mNone\u001b[0m\u001b[0;34m\u001b[0m\u001b[0;34m\u001b[0m\u001b[0m\n\u001b[0m\u001b[1;32m    905\u001b[0m             \u001b[0;32mexcept\u001b[0m \u001b[0mException\u001b[0m \u001b[0;32mas\u001b[0m \u001b[0me\u001b[0m\u001b[0;34m:\u001b[0m\u001b[0;34m\u001b[0m\u001b[0;34m\u001b[0m\u001b[0m\n\u001b[1;32m    906\u001b[0m                 \u001b[0mself\u001b[0m\u001b[0;34m.\u001b[0m\u001b[0mlog\u001b[0m\u001b[0;34m.\u001b[0m\u001b[0mwarning\u001b[0m\u001b[0;34m(\u001b[0m\u001b[0;34m\"Invalid Message:\"\u001b[0m\u001b[0;34m,\u001b[0m \u001b[0mexc_info\u001b[0m\u001b[0;34m=\u001b[0m\u001b[0;32mTrue\u001b[0m\u001b[0;34m)\u001b[0m\u001b[0;34m\u001b[0m\u001b[0;34m\u001b[0m\u001b[0m\n",
            "\u001b[0;31mKeyboardInterrupt\u001b[0m: Interrupted by user"
          ]
        }
      ]
    }
  ]
}